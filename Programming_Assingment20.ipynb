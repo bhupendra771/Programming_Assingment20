{
 "cells": [
  {
   "cell_type": "code",
   "execution_count": 16,
   "id": "8ea1a8ca",
   "metadata": {},
   "outputs": [
    {
     "data": {
      "text/plain": [
       "[0, 1729]"
      ]
     },
     "execution_count": 16,
     "metadata": {},
     "output_type": "execute_result"
    }
   ],
   "source": [
    "# Question1\n",
    "# Create a function that takes a list of strings and integers, and filters out the list so that it returns a list of integers only.\n",
    "# Examples\n",
    "# filter_list([1, 2, 3, \"a\", \"b\", 4]) ➞ [1, 2, 3, 4]\n",
    "\n",
    "# filter_list([\"A\", 0, \"Edabit\", 1729, \"Python\", \"1729\"]) ➞ [0, 1729]\n",
    "\n",
    "# filter_list([\"Nothing\", \"here\"]) ➞ []\n",
    "\n",
    "def filter_list(lst):\n",
    "    return [i for i in lst if type(i)== int]\n",
    "\n",
    "filter_list([\"A\", 0, \"Edabit\", 1729, \"Python\", \"1729\"])\n"
   ]
  },
  {
   "cell_type": "code",
   "execution_count": 17,
   "id": "6d75ed0b",
   "metadata": {},
   "outputs": [
    {
     "data": {
      "text/plain": [
       "[1, 3, 5, 7, 9]"
      ]
     },
     "execution_count": 17,
     "metadata": {},
     "output_type": "execute_result"
    }
   ],
   "source": [
    "# Question2\n",
    "# Given a list of numbers, create a function which returns the list but with each element's index in the list added to itself. This means you add 0 to the number at index 0, add 1 to the number at index 1, etc...\n",
    "# Examples\n",
    "# add_indexes([0, 0, 0, 0, 0]) ➞ [0, 1, 2, 3, 4]\n",
    "\n",
    "# add_indexes([1, 2, 3, 4, 5]) ➞ [1, 3, 5, 7, 9]\n",
    "\n",
    "# add_indexes([5, 4, 3, 2, 1]) ➞ [5, 5, 5, 5, 5]\n",
    "def add_indexes(n):    \n",
    "    lst1 = []\n",
    "    ind =0\n",
    "    for i in n :\n",
    "        lst1.append((n.index(i,ind)+i))\n",
    "        ind +=1\n",
    "    return lst1\n",
    "add_indexes([1, 2, 3, 4, 5])"
   ]
  },
  {
   "cell_type": "code",
   "execution_count": 18,
   "id": "e31b2d9d",
   "metadata": {},
   "outputs": [
    {
     "data": {
      "text/plain": [
       "565.4866776461628"
      ]
     },
     "execution_count": 18,
     "metadata": {},
     "output_type": "execute_result"
    }
   ],
   "source": [
    "# Question3\n",
    "# Create a function that takes the height and radius of a cone as arguments and returns the volume of the cone rounded to the nearest hundredth. See the resources tab for the formula.\n",
    " \n",
    "# Examples\n",
    "# cone_volume(3, 2) ➞ 12.57\n",
    "\n",
    "# cone_volume(15, 6) ➞ 565.49\n",
    "\n",
    "# cone_volume(18, 0) ➞ 0\n",
    "# V=πr2h/3\n",
    "def cone_volume(h,r):\n",
    "    import math\n",
    "    pee = math.pi\n",
    "    return (pee*r*r*h/3)\n",
    "cone_volume(15,6)"
   ]
  },
  {
   "cell_type": "code",
   "execution_count": 22,
   "id": "12d3f6ef",
   "metadata": {},
   "outputs": [
    {
     "data": {
      "text/plain": [
       "23220"
      ]
     },
     "execution_count": 22,
     "metadata": {},
     "output_type": "execute_result"
    }
   ],
   "source": [
    "# Question4\n",
    "# This Triangular Number Sequence is generated from a pattern of dots that form a triangle. The first 5 numbers of the sequence, or dots, are: \n",
    "# 1, 3, 6, 10, 15\n",
    "# This means that the first triangle has just one dot, the second one has three dots, the third one has 6 dots and so on.\n",
    "# Write a function that gives the number of dots with its corresponding triangle number of the sequence.\n",
    "# Write a function that gives the number of dots with its corresponding triangle number of the sequence.\n",
    "# Examples\n",
    "# triangle(1) ➞ 1\n",
    "\n",
    "# triangle(6) ➞ 21\n",
    "\n",
    "# triangle(215) ➞ 23220\n",
    "\n",
    "def triangle(n1):\n",
    "    tem= 0\n",
    "    for i in range(1,n1+1):\n",
    "        tem = i +tem\n",
    "    return tem\n",
    "triangle(215)"
   ]
  },
  {
   "cell_type": "code",
   "execution_count": 52,
   "id": "7ac35d4a",
   "metadata": {},
   "outputs": [
    {
     "name": "stdout",
     "output_type": "stream",
     "text": [
      "7 is missing\n"
     ]
    }
   ],
   "source": [
    "# Question5\n",
    "# Create a function that takes a list of numbers between 1 and 10 (excluding one number) and returns the missing number.\n",
    "# Examples\n",
    "# missing_num([1, 2, 3, 4, 6, 7, 8, 9, 10]) ➞ 5\n",
    "\n",
    "# missing_num([7, 2, 3, 6, 5, 9, 1, 4, 8]) ➞ 10\n",
    "\n",
    "# missing_num([10, 5, 1, 2, 4, 6, 8, 3, 9]) ➞ 7\n",
    "\n",
    "# def missing_num():\n",
    "#     global lst2\n",
    "#     lst2 = []\n",
    "#     ch = False\n",
    "#     for i in range (1,3):\n",
    "#         a = int(input(\"Enter your number\\n\"))\n",
    "#         lst2.append(a)\n",
    "    \n",
    "#     for j in range(2):\n",
    "        \n",
    "#         for k in range (1, 3):\n",
    "#             if lst2[j] ==k:\n",
    "#                 ch =True\n",
    "#     return ch          \n",
    "            \n",
    "        \n",
    "# missing_num()\n",
    "\n",
    "def missing_num1(ls3):\n",
    "\n",
    "      \n",
    "    for i in range(1,11):\n",
    "        if i not in ls3:\n",
    "            print(f\"{i} is missing\")\n",
    "            \n",
    "      \n",
    "                \n",
    "                \n",
    "\n",
    "missing_num1([10, 5, 1, 2, 4, 6, 8, 3, 9])\n",
    "\n",
    "\n"
   ]
  },
  {
   "cell_type": "code",
   "execution_count": 40,
   "id": "d0216a49",
   "metadata": {},
   "outputs": [
    {
     "name": "stdout",
     "output_type": "stream",
     "text": [
      "[1, 2]\n"
     ]
    }
   ],
   "source": [
    "print(lst2)"
   ]
  },
  {
   "cell_type": "code",
   "execution_count": null,
   "id": "c79399e3",
   "metadata": {},
   "outputs": [],
   "source": []
  }
 ],
 "metadata": {
  "kernelspec": {
   "display_name": "Python 3 (ipykernel)",
   "language": "python",
   "name": "python3"
  },
  "language_info": {
   "codemirror_mode": {
    "name": "ipython",
    "version": 3
   },
   "file_extension": ".py",
   "mimetype": "text/x-python",
   "name": "python",
   "nbconvert_exporter": "python",
   "pygments_lexer": "ipython3",
   "version": "3.10.4"
  }
 },
 "nbformat": 4,
 "nbformat_minor": 5
}
